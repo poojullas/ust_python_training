{
 "cells": [
  {
   "cell_type": "code",
   "execution_count": 4,
   "id": "3ff85977",
   "metadata": {},
   "outputs": [
    {
     "name": "stdout",
     "output_type": "stream",
     "text": [
      "select operation.\n",
      "1.add\n",
      "2.subtract\n",
      "3.multiply\n",
      "4.divide\n",
      "Enter choice(1/2/3/4): 2\n",
      "Enter first number: 3\n",
      "Enter the second number: 4\n",
      "3.0 - 4.0 = -1.0\n",
      "let's do next calculation? (yes/no): no\n"
     ]
    }
   ],
   "source": [
    "def add(x, y):\n",
    "    return x + y\n",
    "\n",
    "def subtract(x, y):\n",
    "    return x - y\n",
    "\n",
    "def multiply(x, y):\n",
    "    return x * y\n",
    "\n",
    "def divide(x, y):\n",
    "    return x / y\n",
    "\n",
    "print(\"select operation.\")\n",
    "print(\"1.add\")\n",
    "print(\"2.subtract\")\n",
    "print(\"3.multiply\")\n",
    "print(\"4.divide\")\n",
    "\n",
    "while True:\n",
    "    choice = input(\"Enter choice(1/2/3/4): \")\n",
    "    \n",
    "    if choice in('1','2','3','4'):\n",
    "        num1 = float(input(\"Enter first number: \"))  \n",
    "        num2 = float(input(\"Enter the second number: \"))\n",
    "    \n",
    "    if choice == '1':\n",
    "        print(num1, \"+\", num2, \"=\", add(num1,num2))\n",
    "    \n",
    "    elif choice == '2':\n",
    "        print(num1, \"-\", num2, \"=\", subtract(num1,num2))\n",
    "    \n",
    "    elif choice == '3':\n",
    "        print(num1, \"*\", num2, \"=\", multiply(num1,num2))\n",
    "    \n",
    "    elif choice == '4':\n",
    "        print(num1, \"/\", num2, \"=\", divide(num1,num2))\n",
    "    \n",
    "    next_calculation = input(\"let's do next calculation? (yes/no): \")\n",
    "    if next_calculation == \"no\":\n",
    "        break\n",
    "     \n",
    "    else:\n",
    "        print(\"Invalid Input\")\n",
    "    \n",
    "    \n",
    "     "
   ]
  },
  {
   "cell_type": "code",
   "execution_count": null,
   "id": "be05241d",
   "metadata": {},
   "outputs": [],
   "source": []
  },
  {
   "cell_type": "code",
   "execution_count": null,
   "id": "d2a3bd87",
   "metadata": {},
   "outputs": [],
   "source": []
  },
  {
   "cell_type": "code",
   "execution_count": null,
   "id": "ffee5ca1",
   "metadata": {},
   "outputs": [],
   "source": []
  },
  {
   "cell_type": "code",
   "execution_count": null,
   "id": "2171c086",
   "metadata": {},
   "outputs": [],
   "source": []
  }
 ],
 "metadata": {
  "kernelspec": {
   "display_name": "Python 3 (ipykernel)",
   "language": "python",
   "name": "python3"
  },
  "language_info": {
   "codemirror_mode": {
    "name": "ipython",
    "version": 3
   },
   "file_extension": ".py",
   "mimetype": "text/x-python",
   "name": "python",
   "nbconvert_exporter": "python",
   "pygments_lexer": "ipython3",
   "version": "3.10.2"
  }
 },
 "nbformat": 4,
 "nbformat_minor": 5
}
