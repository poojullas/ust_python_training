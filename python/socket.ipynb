{
 "cells": [
  {
   "cell_type": "code",
   "execution_count": 3,
   "id": "ad9c92a9",
   "metadata": {},
   "outputs": [
    {
     "name": "stdout",
     "output_type": "stream",
     "text": [
      "socket created <socket.socket fd=1424, family=AddressFamily.AF_INET, type=SocketKind.SOCK_STREAM, proto=0>\n"
     ]
    }
   ],
   "source": [
    "import socket\n",
    "s=socket.socket()\n",
    "print(\"socket created\",s)\n"
   ]
  },
  {
   "cell_type": "code",
   "execution_count": null,
   "id": "526727a6",
   "metadata": {},
   "outputs": [
    {
     "name": "stdout",
     "output_type": "stream",
     "text": [
      "socket created <socket.socket fd=920, family=AddressFamily.AF_INET, type=SocketKind.SOCK_STREAM, proto=0>\n",
      "waiting for connection\n"
     ]
    }
   ],
   "source": [
    "s=socket.socket()\n",
    "print(\"socket created\",s)\n",
    "s.bind(('localhost',9999))\n",
    "s.listen(3)\n",
    "print(\"waiting for connection\")\n",
    "while True:\n",
    "    c,addr=s.accept()\n",
    "    name=c.recv(1024).decode()\n",
    "    print(\"connected with client\",addr,name)\n",
    "    c.send(bytes('welcome to python socket',utf-8))\n",
    "    c.close()\n",
    "    "
   ]
  },
  {
   "cell_type": "code",
   "execution_count": null,
   "id": "0760ab0a",
   "metadata": {},
   "outputs": [],
   "source": [
    "# server\n",
    "import socket\n",
    "s=socket.socket()\n",
    "print(\"socket created\")\n",
    "s.bind(('localhost',1234))\n",
    "s.listen(3)\n",
    "print(\"waiting for connection\")\n",
    "while True:\n",
    "    c,addr=s.accept() # it returns for address and client socket\n",
    "    name=c.recv(1024).decode()\n",
    "    print(\"connected with client\",addr,name)\n",
    "    c.send(bytes(\"welcome to python socket\",'utf-8'))\n",
    "    c.close()\n",
    "    "
   ]
  },
  {
   "cell_type": "code",
   "execution_count": null,
   "id": "9ca6ccf9",
   "metadata": {},
   "outputs": [],
   "source": [
    "# client\n",
    "import socket\n",
    "c=socket.socket()\n",
    "c.connect(('localhost',1234))\n",
    "name=input(\"enter your name\")\n",
    "c.send(bytes(name,'utf-8'))\n",
    "print(c.recv(1024),decode())\n"
   ]
  },
  {
   "cell_type": "code",
   "execution_count": null,
   "id": "ee17190c",
   "metadata": {},
   "outputs": [],
   "source": []
  }
 ],
 "metadata": {
  "kernelspec": {
   "display_name": "Python 3 (ipykernel)",
   "language": "python",
   "name": "python3"
  },
  "language_info": {
   "codemirror_mode": {
    "name": "ipython",
    "version": 3
   },
   "file_extension": ".py",
   "mimetype": "text/x-python",
   "name": "python",
   "nbconvert_exporter": "python",
   "pygments_lexer": "ipython3",
   "version": "3.10.2"
  }
 },
 "nbformat": 4,
 "nbformat_minor": 5
}
