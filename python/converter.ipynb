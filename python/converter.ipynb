{
 "cells": [
  {
   "cell_type": "code",
   "execution_count": null,
   "id": "ded1d488",
   "metadata": {},
   "outputs": [],
   "source": [
    "import os,json\n",
    "from urllib2 import urlopen\n",
    "os.system('clear')\n",
    "\n",
    "CONVERT_TO ={\n",
    "    'volume':{\n",
    "        'tsp':48,\n",
    "        'tbsp':16,\n",
    "        'c':1,\n",
    "        'q':.25,\n",
    "        'p':.5,\n",
    "        'gal':.0625,\n",
    "        'oz':8\n",
    "    },\n",
    "    'mass':{\n",
    "        'g':453.59,\n",
    "        'oz':16,\n",
    "        'ib':1,\n",
    "        'kg':0.45359\n",
    "    }\n",
    "CONVERT_FROM\n",
    "    \n",
    "}"
   ]
  }
 ],
 "metadata": {
  "kernelspec": {
   "display_name": "Python 3 (ipykernel)",
   "language": "python",
   "name": "python3"
  },
  "language_info": {
   "codemirror_mode": {
    "name": "ipython",
    "version": 3
   },
   "file_extension": ".py",
   "mimetype": "text/x-python",
   "name": "python",
   "nbconvert_exporter": "python",
   "pygments_lexer": "ipython3",
   "version": "3.10.2"
  }
 },
 "nbformat": 4,
 "nbformat_minor": 5
}
