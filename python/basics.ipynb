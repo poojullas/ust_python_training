{
 "cells": [
  {
   "cell_type": "code",
   "execution_count": 7,
   "id": "4a2c1c02",
   "metadata": {},
   "outputs": [
    {
     "name": "stdout",
     "output_type": "stream",
     "text": [
      "12\n"
     ]
    }
   ],
   "source": [
    "\n",
    "print(3+9)\n"
   ]
  },
  {
   "cell_type": "code",
   "execution_count": 6,
   "id": "70964315",
   "metadata": {},
   "outputs": [
    {
     "name": "stdout",
     "output_type": "stream",
     "text": [
      "1\n"
     ]
    }
   ],
   "source": [
    "print(6-5)"
   ]
  },
  {
   "cell_type": "code",
   "execution_count": 3,
   "id": "c4ba0786",
   "metadata": {},
   "outputs": [
    {
     "name": "stdout",
     "output_type": "stream",
     "text": [
      "0\n"
     ]
    }
   ],
   "source": [
    "print(4%4)"
   ]
  },
  {
   "cell_type": "code",
   "execution_count": 4,
   "id": "855e5fb0",
   "metadata": {},
   "outputs": [
    {
     "name": "stdout",
     "output_type": "stream",
     "text": [
      "625\n"
     ]
    }
   ],
   "source": [
    "print(25*25)"
   ]
  },
  {
   "cell_type": "code",
   "execution_count": 32,
   "id": "c4b65295",
   "metadata": {},
   "outputs": [
    {
     "ename": "SyntaxError",
     "evalue": "invalid syntax (3761113220.py, line 1)",
     "output_type": "error",
     "traceback": [
      "\u001b[1;36m  Input \u001b[1;32mIn [32]\u001b[1;36m\u001b[0m\n\u001b[1;33m    Import Keyword\u001b[0m\n\u001b[1;37m           ^\u001b[0m\n\u001b[1;31mSyntaxError\u001b[0m\u001b[1;31m:\u001b[0m invalid syntax\n"
     ]
    }
   ],
   "source": [
    "Import Keyword\n",
    "Keyword.Kwlist"
   ]
  },
  {
   "cell_type": "code",
   "execution_count": 33,
   "id": "9d8e512b",
   "metadata": {},
   "outputs": [],
   "source": [
    "# Identifier"
   ]
  },
  {
   "cell_type": "code",
   "execution_count": 34,
   "id": "e547d25c",
   "metadata": {},
   "outputs": [],
   "source": [
    "name = 'Anil'\n",
    "\n",
    "my_identifier = name"
   ]
  },
  {
   "cell_type": "code",
   "execution_count": null,
   "id": "eebe68a0",
   "metadata": {},
   "outputs": [],
   "source": [
    "# Variables"
   ]
  },
  {
   "cell_type": "code",
   "execution_count": 29,
   "id": "7fa25c31",
   "metadata": {},
   "outputs": [
    {
     "name": "stdout",
     "output_type": "stream",
     "text": [
      "10\n"
     ]
    }
   ],
   "source": [
    "s=10                                  ------>assigned value\n",
    "print(s)                              ------->variable"
   ]
  },
  {
   "cell_type": "code",
   "execution_count": 38,
   "id": "62a39a98",
   "metadata": {},
   "outputs": [],
   "source": [
    "a = 10\n",
    "def function():\n",
    "    global a\n",
    "    a += 10\n",
    "    print(a)\n",
    "    function()\n",
    "    "
   ]
  },
  {
   "cell_type": "code",
   "execution_count": null,
   "id": "9afcbe5c",
   "metadata": {},
   "outputs": [],
   "source": [
    "# list------>multiple items into single variables\n"
   ]
  },
  {
   "cell_type": "code",
   "execution_count": 46,
   "id": "7d728c16",
   "metadata": {},
   "outputs": [
    {
     "name": "stdout",
     "output_type": "stream",
     "text": [
      "['csk', 'rcb', 'mi', 'kkr']\n"
     ]
    }
   ],
   "source": [
    "my_list = [\"csk\",\"rcb\",\"mi\",\"kkr\"]\n",
    "print (my_list)"
   ]
  },
  {
   "cell_type": "code",
   "execution_count": 51,
   "id": "b2b9ab3f",
   "metadata": {
    "scrolled": true
   },
   "outputs": [
    {
     "data": {
      "text/plain": [
       "4"
      ]
     },
     "execution_count": 51,
     "metadata": {},
     "output_type": "execute_result"
    }
   ],
   "source": [
    "len(my_list)            "
   ]
  },
  {
   "cell_type": "code",
   "execution_count": 50,
   "id": "3194ef22",
   "metadata": {},
   "outputs": [
    {
     "name": "stdout",
     "output_type": "stream",
     "text": [
      "4\n"
     ]
    }
   ],
   "source": [
    "print(len(my_list))"
   ]
  },
  {
   "cell_type": "code",
   "execution_count": 58,
   "id": "d84ac0ff",
   "metadata": {},
   "outputs": [
    {
     "name": "stdout",
     "output_type": "stream",
     "text": [
      "['ind', 'aus', 'eng'] [1, 2, 3, 4, 5] [True, False]\n"
     ]
    }
   ],
   "source": [
    "list1 = [\"ind\",\"aus\",\"eng\"]\n",
    "list2 = [1,2,3,4,5]\n",
    "list3 = [True,False]\n",
    "print(list1,list2,list3)"
   ]
  },
  {
   "cell_type": "code",
   "execution_count": 59,
   "id": "ad54a514",
   "metadata": {},
   "outputs": [
    {
     "name": "stdout",
     "output_type": "stream",
     "text": [
      "['IND', 'AUS', 'ENG', 1, 2, 3, 4, 5, 'Male', 'Female']\n"
     ]
    }
   ],
   "source": [
    "list1 = [\"IND\",\"AUS\",\"ENG\",1,2,3,4,5,\"Male\",\"Female\"]\n",
    "print(list1)"
   ]
  },
  {
   "cell_type": "code",
   "execution_count": null,
   "id": "0b2809eb",
   "metadata": {},
   "outputs": [],
   "source": [
    "# Tuple"
   ]
  },
  {
   "cell_type": "code",
   "execution_count": 66,
   "id": "122ef1e0",
   "metadata": {},
   "outputs": [
    {
     "name": "stdout",
     "output_type": "stream",
     "text": [
      "('IND', 'AUS', 'ENG')\n"
     ]
    }
   ],
   "source": [
    "tuple1=(\"IND\",\"AUS\",\"ENG\")\n",
    "print(tuple1)\n"
   ]
  },
  {
   "cell_type": "code",
   "execution_count": 68,
   "id": "3eff5ba5",
   "metadata": {},
   "outputs": [
    {
     "name": "stdout",
     "output_type": "stream",
     "text": [
      "3\n"
     ]
    }
   ],
   "source": [
    "print(len(tuple1))"
   ]
  },
  {
   "cell_type": "code",
   "execution_count": null,
   "id": "2f9d58b7",
   "metadata": {},
   "outputs": [],
   "source": [
    "# sets"
   ]
  },
  {
   "cell_type": "code",
   "execution_count": 69,
   "id": "7b72a447",
   "metadata": {},
   "outputs": [
    {
     "name": "stdout",
     "output_type": "stream",
     "text": [
      "{'ENG', 'AUS', 'IND'}\n"
     ]
    }
   ],
   "source": [
    "set1 = {\"IND\",\"AUS\",\"ENG\"}\n",
    "print(set1)"
   ]
  },
  {
   "cell_type": "code",
   "execution_count": 75,
   "id": "6fd7d90f",
   "metadata": {},
   "outputs": [
    {
     "name": "stdout",
     "output_type": "stream",
     "text": [
      "{1, 2, 3, 4, 5, 'IND', 'AUS', 'ENG', 'Male', 'Female'}\n"
     ]
    }
   ],
   "source": [
    "my_set = {\"IND\",\"AUS\",\"ENG\",1,2,3,4,5,\"Male\",\"Female\"}\n",
    "print(my_set)"
   ]
  },
  {
   "cell_type": "code",
   "execution_count": null,
   "id": "a376e230",
   "metadata": {},
   "outputs": [],
   "source": [
    "# dictionary"
   ]
  },
  {
   "cell_type": "code",
   "execution_count": 76,
   "id": "26bf8eaf",
   "metadata": {},
   "outputs": [
    {
     "name": "stdout",
     "output_type": "stream",
     "text": [
      "b is greater than a\n"
     ]
    }
   ],
   "source": [
    "a = 33\n",
    "b = 220\n",
    "if b>a:\n",
    "    print(\"b is greater than a\")"
   ]
  },
  {
   "cell_type": "code",
   "execution_count": null,
   "id": "f9df08d2",
   "metadata": {},
   "outputs": [],
   "source": []
  }
 ],
 "metadata": {
  "kernelspec": {
   "display_name": "Python 3 (ipykernel)",
   "language": "python",
   "name": "python3"
  },
  "language_info": {
   "codemirror_mode": {
    "name": "ipython",
    "version": 3
   },
   "file_extension": ".py",
   "mimetype": "text/x-python",
   "name": "python",
   "nbconvert_exporter": "python",
   "pygments_lexer": "ipython3",
   "version": "3.10.2"
  }
 },
 "nbformat": 4,
 "nbformat_minor": 5
}
