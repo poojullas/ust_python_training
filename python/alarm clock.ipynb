{
 "cells": [
  {
   "cell_type": "code",
   "execution_count": 1,
   "id": "80d415b9",
   "metadata": {},
   "outputs": [
    {
     "ename": "TclError",
     "evalue": "bitmap \"dataflair-logo.ico\" not defined",
     "output_type": "error",
     "traceback": [
      "\u001b[1;31m---------------------------------------------------------------------------\u001b[0m",
      "\u001b[1;31mTclError\u001b[0m                                  Traceback (most recent call last)",
      "Input \u001b[1;32mIn [1]\u001b[0m, in \u001b[0;36m<module>\u001b[1;34m\u001b[0m\n\u001b[0;32m     23\u001b[0m clock \u001b[38;5;241m=\u001b[39m Tk()\n\u001b[0;32m     24\u001b[0m clock\u001b[38;5;241m.\u001b[39mtitle(\u001b[38;5;124m\"\u001b[39m\u001b[38;5;124mDataFlair Alarm Clock\u001b[39m\u001b[38;5;124m\"\u001b[39m)\n\u001b[1;32m---> 25\u001b[0m \u001b[43mclock\u001b[49m\u001b[38;5;241;43m.\u001b[39;49m\u001b[43miconbitmap\u001b[49m\u001b[43m(\u001b[49m\u001b[38;5;124;43mr\u001b[39;49m\u001b[38;5;124;43m\"\u001b[39;49m\u001b[38;5;124;43mdataflair-logo.ico\u001b[39;49m\u001b[38;5;124;43m\"\u001b[39;49m\u001b[43m)\u001b[49m\n\u001b[0;32m     26\u001b[0m clock\u001b[38;5;241m.\u001b[39mgeometry(\u001b[38;5;124m\"\u001b[39m\u001b[38;5;124m400x200\u001b[39m\u001b[38;5;124m\"\u001b[39m)\n\u001b[0;32m     27\u001b[0m time_format\u001b[38;5;241m=\u001b[39mLabel(clock, text\u001b[38;5;241m=\u001b[39m \u001b[38;5;124m\"\u001b[39m\u001b[38;5;124mEnter time in 24 hour format!\u001b[39m\u001b[38;5;124m\"\u001b[39m, fg\u001b[38;5;241m=\u001b[39m\u001b[38;5;124m\"\u001b[39m\u001b[38;5;124mred\u001b[39m\u001b[38;5;124m\"\u001b[39m,bg\u001b[38;5;241m=\u001b[39m\u001b[38;5;124m\"\u001b[39m\u001b[38;5;124mblack\u001b[39m\u001b[38;5;124m\"\u001b[39m,font\u001b[38;5;241m=\u001b[39m\u001b[38;5;124m\"\u001b[39m\u001b[38;5;124mArial\u001b[39m\u001b[38;5;124m\"\u001b[39m)\u001b[38;5;241m.\u001b[39mplace(x\u001b[38;5;241m=\u001b[39m\u001b[38;5;241m60\u001b[39m,y\u001b[38;5;241m=\u001b[39m\u001b[38;5;241m120\u001b[39m)\n",
      "File \u001b[1;32m~\\AppData\\Local\\Programs\\Python\\Python310\\lib\\tkinter\\__init__.py:2109\u001b[0m, in \u001b[0;36mWm.wm_iconbitmap\u001b[1;34m(self, bitmap, default)\u001b[0m\n\u001b[0;32m   2107\u001b[0m     \u001b[38;5;28;01mreturn\u001b[39;00m \u001b[38;5;28mself\u001b[39m\u001b[38;5;241m.\u001b[39mtk\u001b[38;5;241m.\u001b[39mcall(\u001b[38;5;124m'\u001b[39m\u001b[38;5;124mwm\u001b[39m\u001b[38;5;124m'\u001b[39m, \u001b[38;5;124m'\u001b[39m\u001b[38;5;124miconbitmap\u001b[39m\u001b[38;5;124m'\u001b[39m, \u001b[38;5;28mself\u001b[39m\u001b[38;5;241m.\u001b[39m_w, \u001b[38;5;124m'\u001b[39m\u001b[38;5;124m-default\u001b[39m\u001b[38;5;124m'\u001b[39m, default)\n\u001b[0;32m   2108\u001b[0m \u001b[38;5;28;01melse\u001b[39;00m:\n\u001b[1;32m-> 2109\u001b[0m     \u001b[38;5;28;01mreturn\u001b[39;00m \u001b[38;5;28;43mself\u001b[39;49m\u001b[38;5;241;43m.\u001b[39;49m\u001b[43mtk\u001b[49m\u001b[38;5;241;43m.\u001b[39;49m\u001b[43mcall\u001b[49m\u001b[43m(\u001b[49m\u001b[38;5;124;43m'\u001b[39;49m\u001b[38;5;124;43mwm\u001b[39;49m\u001b[38;5;124;43m'\u001b[39;49m\u001b[43m,\u001b[49m\u001b[43m \u001b[49m\u001b[38;5;124;43m'\u001b[39;49m\u001b[38;5;124;43miconbitmap\u001b[39;49m\u001b[38;5;124;43m'\u001b[39;49m\u001b[43m,\u001b[49m\u001b[43m \u001b[49m\u001b[38;5;28;43mself\u001b[39;49m\u001b[38;5;241;43m.\u001b[39;49m\u001b[43m_w\u001b[49m\u001b[43m,\u001b[49m\u001b[43m \u001b[49m\u001b[43mbitmap\u001b[49m\u001b[43m)\u001b[49m\n",
      "\u001b[1;31mTclError\u001b[0m: bitmap \"dataflair-logo.ico\" not defined"
     ]
    }
   ],
   "source": [
    "\n",
    "from tkinter import *\n",
    "import datetime\n",
    "import time\n",
    "import winsound\n",
    "\n",
    "def alarm(set_alarm_timer):\n",
    "    while True:\n",
    "        time.sleep(1)\n",
    "        current_time = datetime.datetime.now()\n",
    "        now = current_time.strftime(\"%H:%M:%S\")\n",
    "        date = current_time.strftime(\"%d/%m/%Y\")\n",
    "        print(\"The Set Date is:\",date)\n",
    "        print(now)\n",
    "        if now == set_alarm_timer:\n",
    "            print(\"Time to Wake up\")\n",
    "            winsound.PlaySound(\"sound.wav\",winsound.SND_ASYNC)\n",
    "            break\n",
    "\n",
    "def actual_time():\n",
    "    set_alarm_timer = f\"{hour.get()}:{min.get()}:{sec.get()}\"\n",
    "    alarm(set_alarm_timer)\n",
    "\n",
    "clock = Tk()\n",
    "clock.title(\"DataFlair Alarm Clock\")\n",
    "clock.iconbitmap(r\"dataflair-logo.ico\")\n",
    "clock.geometry(\"400x200\")\n",
    "time_format=Label(clock, text= \"Enter time in 24 hour format!\", fg=\"red\",bg=\"black\",font=\"Arial\").place(x=60,y=120)\n",
    "addTime = Label(clock,text = \"Hour  Min   Sec\",font=60).place(x = 110)\n",
    "setYourAlarm = Label(clock,text = \"When to wake you up\",fg=\"blue\",relief = \"solid\",font=(\"Helevetica\",7,\"bold\")).place(x=0, y=29)\n",
    "\n",
    "\n",
    "hour = StringVar()\n",
    "min = StringVar()\n",
    "sec = StringVar()\n",
    "\n",
    "\n",
    "hourTime= Entry(clock,textvariable = hour,bg = \"pink\",width = 15).place(x=110,y=30)\n",
    "minTime= Entry(clock,textvariable = min,bg = \"pink\",width = 15).place(x=150,y=30)\n",
    "secTime = Entry(clock,textvariable = sec,bg = \"pink\",width = 15).place(x=200,y=30)\n",
    "\n",
    "\n",
    "submit = Button(clock,text = \"Set Alarm\",fg=\"red\",width = 10,command = actual_time).place(x =110,y=70)\n",
    "\n",
    "clock.mainloop()\n",
    "\n"
   ]
  },
  {
   "cell_type": "code",
   "execution_count": null,
   "id": "18b6f5c6",
   "metadata": {},
   "outputs": [],
   "source": []
  },
  {
   "cell_type": "code",
   "execution_count": null,
   "id": "49d18a6d",
   "metadata": {},
   "outputs": [],
   "source": []
  },
  {
   "cell_type": "code",
   "execution_count": null,
   "id": "a1853766",
   "metadata": {},
   "outputs": [],
   "source": []
  }
 ],
 "metadata": {
  "kernelspec": {
   "display_name": "Python 3 (ipykernel)",
   "language": "python",
   "name": "python3"
  },
  "language_info": {
   "codemirror_mode": {
    "name": "ipython",
    "version": 3
   },
   "file_extension": ".py",
   "mimetype": "text/x-python",
   "name": "python",
   "nbconvert_exporter": "python",
   "pygments_lexer": "ipython3",
   "version": "3.10.2"
  }
 },
 "nbformat": 4,
 "nbformat_minor": 5
}
